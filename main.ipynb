{
 "cells": [
  {
   "cell_type": "code",
   "execution_count": 1,
   "metadata": {},
   "outputs": [],
   "source": [
    "from importlib import reload\n",
    "import honours_project.simulation as simulation\n",
    "reload(simulation)\n",
    "import honours_project.data as data\n",
    "reload(data)\n",
    "\n",
    "import json"
   ]
  },
  {
   "cell_type": "code",
   "execution_count": 149,
   "metadata": {},
   "outputs": [
    {
     "name": "stdout",
     "output_type": "stream",
     "text": [
      "{\n",
      "    \"time\": 0.00491637499362696,\n",
      "    \"iteration\": 2\n",
      "}\n",
      "{\n",
      "    \"time\": 0.00156958399747964,\n",
      "    \"iteration\": 0\n",
      "}\n"
     ]
    }
   ],
   "source": [
    "from honours_project.data import PNE, Cycle, SimulationResult\n",
    "\n",
    "# Example of problematic seed\n",
    "sim = simulation.Simulation(5, 2, seed=1737044418)\n",
    "result1 = sim.run()\n",
    "result2 = sim.run()\n",
    "print(json.dumps(result1, indent=4, cls=data.EnhancedJSONEncoder))\n",
    "print(json.dumps(result2, indent=4, cls=data.EnhancedJSONEncoder))"
   ]
  }
 ],
 "metadata": {
  "kernelspec": {
   "display_name": ".venv",
   "language": "python",
   "name": "python3"
  },
  "language_info": {
   "codemirror_mode": {
    "name": "ipython",
    "version": 3
   },
   "file_extension": ".py",
   "mimetype": "text/x-python",
   "name": "python",
   "nbconvert_exporter": "python",
   "pygments_lexer": "ipython3",
   "version": "3.13.1"
  }
 },
 "nbformat": 4,
 "nbformat_minor": 2
}
