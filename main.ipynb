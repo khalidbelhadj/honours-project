{
 "cells": [
  {
   "cell_type": "code",
   "execution_count": 48,
   "metadata": {},
   "outputs": [],
   "source": [
    "from importlib import reload\n",
    "import honours_project.simulation as simulation\n",
    "reload(simulation)\n",
    "import honours_project.data as data\n",
    "reload(data)\n",
    "\n",
    "import json"
   ]
  },
  {
   "cell_type": "code",
   "execution_count": null,
   "metadata": {},
   "outputs": [
    {
     "name": "stdout",
     "output_type": "stream",
     "text": [
      "{\n",
      "    \"time\": 0.06784283299930394,\n",
      "    \"iteration\": 91\n",
      "}\n",
      "{\n",
      "    \"time\": 0.02161129200248979,\n",
      "    \"iteration\": 35,\n",
      "    \"allocations\": [\n",
      "        {\n",
      "            \"bidder\": 3,\n",
      "            \"auction\": 0,\n",
      "            \"price\": 0.42134011961374696\n",
      "        },\n",
      "        {\n",
      "            \"bidder\": 2,\n",
      "            \"auction\": 1,\n",
      "            \"price\": 0.2694658968969589\n",
      "        }\n",
      "    ]\n",
      "}\n"
     ]
    }
   ],
   "source": [
    "from honours_project.data import PNE, Cycle, SimulationResult\n",
    "\n",
    "# Example of problematic seed\n",
    "sim = simulation.Simulation(5, 2, seed=1737044418)\n",
    "result1 = sim.run()\n",
    "result2 = sim.run()\n",
    "print(json.dumps(result1, indent=4, cls=data.EnhancedJSONEncoder))\n",
    "print(json.dumps(result2, indent=4, cls=data.EnhancedJSONEncoder))"
   ]
  }
 ],
 "metadata": {
  "kernelspec": {
   "display_name": ".venv",
   "language": "python",
   "name": "python3"
  },
  "language_info": {
   "codemirror_mode": {
    "name": "ipython",
    "version": 3
   },
   "file_extension": ".py",
   "mimetype": "text/x-python",
   "name": "python",
   "nbconvert_exporter": "python",
   "pygments_lexer": "ipython3",
   "version": "3.13.1"
  }
 },
 "nbformat": 4,
 "nbformat_minor": 2
}
