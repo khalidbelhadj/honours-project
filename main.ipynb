{
 "cells": [
  {
   "cell_type": "code",
   "execution_count": 1,
   "metadata": {},
   "outputs": [],
   "source": [
    "from importlib import reload\n",
    "import honours_project.simulation as simulation\n",
    "reload(simulation)\n",
    "import honours_project.data as data\n",
    "reload(data)\n",
    "\n",
    "import json"
   ]
  },
  {
   "cell_type": "code",
   "execution_count": 223,
   "metadata": {},
   "outputs": [
    {
     "name": "stdout",
     "output_type": "stream",
     "text": [
      "{\n",
      "    \"time\": 0.02561916600097902,\n",
      "    \"iteration\": 2\n",
      "}\n",
      "{\n",
      "    \"time\": 0.007210000010672957,\n",
      "    \"iteration\": 0\n",
      "}\n",
      "PNE count: 0\n",
      "Cycle count: 0\n"
     ]
    }
   ],
   "source": [
    "from honours_project.data import PNE, Cycle, SimulationResult\n",
    "\n",
    "# Example of problematic seed\n",
    "sim = simulation.Simulation(5, 5)\n",
    "result1 = sim.run()\n",
    "result2 = sim.run()\n",
    "print(json.dumps(result1, indent=4, cls=data.EnhancedJSONEncoder))\n",
    "print(json.dumps(result2, indent=4, cls=data.EnhancedJSONEncoder))\n",
    "\n",
    "pne_count = 0\n",
    "cycle_count = 0\n",
    "for _ in range(100):\n",
    "    sim = simulation.Simulation(5, 5)\n",
    "    result = sim.run()\n",
    "    if isinstance(result, PNE):\n",
    "        pne_count += 1\n",
    "    elif isinstance(result, Cycle):\n",
    "        cycle_count += 1\n",
    "\n",
    "print(f\"PNE count: {pne_count}\")\n",
    "print(f\"Cycle count: {cycle_count}\")"
   ]
  }
 ],
 "metadata": {
  "kernelspec": {
   "display_name": ".venv",
   "language": "python",
   "name": "python3"
  },
  "language_info": {
   "codemirror_mode": {
    "name": "ipython",
    "version": 3
   },
   "file_extension": ".py",
   "mimetype": "text/x-python",
   "name": "python",
   "nbconvert_exporter": "python",
   "pygments_lexer": "ipython3",
   "version": "3.13.1"
  }
 },
 "nbformat": 4,
 "nbformat_minor": 2
}
