{
 "cells": [
  {
   "cell_type": "code",
   "execution_count": 345,
   "metadata": {},
   "outputs": [],
   "source": [
    "from importlib import reload\n",
    "import honours_project.simulation as simulation\n",
    "reload(simulation)\n",
    "import honours_project.data as data\n",
    "reload(data)\n",
    "\n",
    "import json"
   ]
  },
  {
   "cell_type": "code",
   "execution_count": 350,
   "metadata": {},
   "outputs": [
    {
     "name": "stdout",
     "output_type": "stream",
     "text": [
      "{\n",
      "    \"time\": 0.551266416994622,\n",
      "    \"iteration\": 283\n",
      "}\n",
      "{\n",
      "    \"time\": 0.4019492499937769,\n",
      "    \"iteration\": 223\n",
      "}\n",
      "<honours_project.simulation.Simulation object at 0x3404c8926d0>\n"
     ]
    }
   ],
   "source": [
    "from honours_project.data import PNE, Cycle, SimulationResult\n",
    "from honours_project.simulation import Simulation\n",
    "\n",
    "# Example of problematic seed\n",
    "sim = simulation.Simulation(5, 5)\n",
    "result1 = sim.run()\n",
    "result2 = sim.run()\n",
    "print(json.dumps(result1, indent=4, cls=data.EnhancedJSONEncoder))\n",
    "print(json.dumps(result2, indent=4, cls=data.EnhancedJSONEncoder))"
   ]
  }
 ],
 "metadata": {
  "kernelspec": {
   "display_name": ".venv",
   "language": "python",
   "name": "python3"
  },
  "language_info": {
   "codemirror_mode": {
    "name": "ipython",
    "version": 3
   },
   "file_extension": ".py",
   "mimetype": "text/x-python",
   "name": "python",
   "nbconvert_exporter": "python",
   "pygments_lexer": "ipython3",
   "version": "3.13.1"
  }
 },
 "nbformat": 4,
 "nbformat_minor": 2
}
